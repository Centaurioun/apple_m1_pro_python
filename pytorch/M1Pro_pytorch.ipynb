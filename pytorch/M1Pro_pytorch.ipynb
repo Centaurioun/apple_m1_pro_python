{
 "cells": [
  {
   "cell_type": "code",
   "execution_count": 1,
   "id": "bbbc3c4b",
   "metadata": {},
   "outputs": [],
   "source": [
    "graphics_output = \"\"\"\n",
    "Graphics/Displays:\n",
    "\n",
    "    Apple M1 Pro:\n",
    "\n",
    "      Chipset Model: Apple M1 Pro\n",
    "      Type: GPU\n",
    "      Bus: Built-In\n",
    "      Total Number of Cores: 16\n",
    "      Vendor: Apple (0x106b)\n",
    "      Metal Support: Metal 3\n",
    "      Displays:\n",
    "        Color LCD:\n",
    "          Display Type: Built-in Liquid Retina XDR Display\n",
    "          Resolution: 3024 x 1964 Retina\n",
    "          Main Display: Yes\n",
    "          Mirror: Off\n",
    "          Online: Yes\n",
    "          Automatically Adjust Brightness: Yes\n",
    "          Connection Type: Internal\n",
    "\"\"\""
   ]
  },
  {
   "cell_type": "code",
   "execution_count": 6,
   "id": "6a0b1c82",
   "metadata": {},
   "outputs": [],
   "source": [
    "import subprocess"
   ]
  },
  {
   "cell_type": "code",
   "execution_count": 48,
   "id": "c854f94f",
   "metadata": {},
   "outputs": [],
   "source": [
    "import re, subprocess\n",
    "\n",
    "cpu_info = subprocess.run([\"system_profiler\",\"SPHardwareDataType\"], stdout=subprocess.PIPE).stdout.decode(\"utf-8\")\n",
    "gpu_info = subprocess.run([\"system_profiler\",\"SPDisplaysDataType\"], stdout=subprocess.PIPE).stdout.decode(\"utf-8\") "
   ]
  },
  {
   "cell_type": "code",
   "execution_count": 46,
   "id": "331e1f19",
   "metadata": {},
   "outputs": [
    {
     "name": "stdout",
     "output_type": "stream",
     "text": [
      "Apple M1 Pro 10 16\n"
     ]
    }
   ],
   "source": [
    "cpu = re.search(r'Chip:\\s+(.+)', cpu_info).group(1)\n",
    "cpu_cores = re.search(r'Number of Cores:\\s+(\\d+)', cpu_info).group(1)\n",
    "memory = re.search(r'Memory:\\s+(\\d+)\\s+GB', cpu_info).group(1)\n",
    "\n",
    "print(cpu, cpu_cores, memory)\n"
   ]
  },
  {
   "cell_type": "code",
   "execution_count": 49,
   "id": "a473e3b2",
   "metadata": {},
   "outputs": [
    {
     "name": "stdout",
     "output_type": "stream",
     "text": [
      "Apple M1 Pro 16\n"
     ]
    }
   ],
   "source": [
    "\n",
    "\n",
    "gpu = re.search(r'Chipset Model:\\s+(.+)', gpu_info).group(1)\n",
    "gpu_cores = re.search(r'Total Number of Cores:\\s+(\\d+)', gpu_info).group(1)\n",
    "\n",
    "print(gpu, gpu_cores)"
   ]
  },
  {
   "cell_type": "code",
   "execution_count": null,
   "id": "3ecc2bbc",
   "metadata": {},
   "outputs": [],
   "source": []
  },
  {
   "cell_type": "code",
   "execution_count": null,
   "id": "fb1d57be",
   "metadata": {},
   "outputs": [],
   "source": []
  },
  {
   "cell_type": "code",
   "execution_count": null,
   "id": "2b55750d-d78c-489d-a8f3-0615853605bf",
   "metadata": {},
   "outputs": [],
   "source": [
    "import torchvision as tv"
   ]
  },
  {
   "cell_type": "code",
   "execution_count": null,
   "id": "fea3b49c-33a9-479d-b9d2-d7304eed50e3",
   "metadata": {},
   "outputs": [],
   "source": [
    "from torchvision.io import read_image"
   ]
  },
  {
   "cell_type": "code",
   "execution_count": 23,
   "id": "419cc07c-1072-4602-9095-28d9b29ecc1d",
   "metadata": {},
   "outputs": [],
   "source": [
    "from tqdm.notebook import tqdm\n",
    "from train_pets import get_pets, get_dataloader, Pets"
   ]
  },
  {
   "cell_type": "code",
   "execution_count": 24,
   "id": "52a77d25-55c5-48d0-9a18-b9b4c13fe28f",
   "metadata": {},
   "outputs": [],
   "source": [
    "NUM_WORKERS = 0\n",
    "BATCH_SIZE = 64\n",
    "IMAGE_SIZE = 128"
   ]
  },
  {
   "cell_type": "code",
   "execution_count": 25,
   "id": "ccfcef3b-2ef8-4a64-8189-898d43d8ab9b",
   "metadata": {},
   "outputs": [
    {
     "name": "stderr",
     "output_type": "stream",
     "text": [
      "\u001b[34m\u001b[1mwandb\u001b[0m: Downloading large artifact PETS:v1, 783.01MB. 25864 files... Done. 0:0:0\n"
     ]
    }
   ],
   "source": [
    "dataset_path = get_pets()"
   ]
  },
  {
   "cell_type": "code",
   "execution_count": null,
   "id": "f31adfbc-d9cd-429e-8d4f-cc4ce92c62d3",
   "metadata": {},
   "outputs": [],
   "source": [
    "ds = Pets(dataset_path, 128)"
   ]
  },
  {
   "cell_type": "code",
   "execution_count": 36,
   "id": "789271c3-0bce-4c03-8abd-e4beadb0476c",
   "metadata": {},
   "outputs": [],
   "source": [
    "file = str(ds.files[0])"
   ]
  },
  {
   "cell_type": "code",
   "execution_count": null,
   "id": "bfb61077-c0bf-46b8-a475-674d96b34698",
   "metadata": {},
   "outputs": [
    {
     "ename": "RuntimeError",
     "evalue": "isString()INTERNAL ASSERT FAILED at \"/Users/malfet/miniconda3/envs/whl-py310-torch-1.11.0/lib/python3.10/site-packages/torch/include/ATen/core/ivalue_inl.h\":2088, please report a bug to PyTorch. Expected String but got Blob",
     "output_type": "error",
     "traceback": [
      "\u001b[0;31m---------------------------------------------------------------------------\u001b[0m",
      "\u001b[0;31mRuntimeError\u001b[0m                              Traceback (most recent call last)",
      "Input \u001b[0;32mIn [32]\u001b[0m, in \u001b[0;36m<cell line: 1>\u001b[0;34m()\u001b[0m\n\u001b[0;32m----> 1\u001b[0m \u001b[43mread_image\u001b[49m\u001b[43m(\u001b[49m\u001b[38;5;28;43mstr\u001b[39;49m\u001b[43m(\u001b[49m\u001b[43mds\u001b[49m\u001b[38;5;241;43m.\u001b[39;49m\u001b[43mfiles\u001b[49m\u001b[43m[\u001b[49m\u001b[38;5;241;43m0\u001b[39;49m\u001b[43m]\u001b[49m\u001b[43m)\u001b[49m\u001b[43m)\u001b[49m\n",
      "File \u001b[0;32m~/miniforge3/envs/pytorch/lib/python3.10/site-packages/torchvision/io/image.py:245\u001b[0m, in \u001b[0;36mread_image\u001b[0;34m(path, mode)\u001b[0m\n\u001b[1;32m    243\u001b[0m \u001b[38;5;28;01mif\u001b[39;00m \u001b[38;5;129;01mnot\u001b[39;00m torch\u001b[38;5;241m.\u001b[39mjit\u001b[38;5;241m.\u001b[39mis_scripting() \u001b[38;5;129;01mand\u001b[39;00m \u001b[38;5;129;01mnot\u001b[39;00m torch\u001b[38;5;241m.\u001b[39mjit\u001b[38;5;241m.\u001b[39mis_tracing():\n\u001b[1;32m    244\u001b[0m     _log_api_usage_once(read_image)\n\u001b[0;32m--> 245\u001b[0m data \u001b[38;5;241m=\u001b[39m \u001b[43mread_file\u001b[49m\u001b[43m(\u001b[49m\u001b[43mpath\u001b[49m\u001b[43m)\u001b[49m\n\u001b[1;32m    246\u001b[0m \u001b[38;5;28;01mreturn\u001b[39;00m decode_image(data, mode)\n",
      "File \u001b[0;32m~/miniforge3/envs/pytorch/lib/python3.10/site-packages/torchvision/io/image.py:47\u001b[0m, in \u001b[0;36mread_file\u001b[0;34m(path)\u001b[0m\n\u001b[1;32m     45\u001b[0m \u001b[38;5;28;01mif\u001b[39;00m \u001b[38;5;129;01mnot\u001b[39;00m torch\u001b[38;5;241m.\u001b[39mjit\u001b[38;5;241m.\u001b[39mis_scripting() \u001b[38;5;129;01mand\u001b[39;00m \u001b[38;5;129;01mnot\u001b[39;00m torch\u001b[38;5;241m.\u001b[39mjit\u001b[38;5;241m.\u001b[39mis_tracing():\n\u001b[1;32m     46\u001b[0m     _log_api_usage_once(read_file)\n\u001b[0;32m---> 47\u001b[0m data \u001b[38;5;241m=\u001b[39m \u001b[43mtorch\u001b[49m\u001b[38;5;241;43m.\u001b[39;49m\u001b[43mops\u001b[49m\u001b[38;5;241;43m.\u001b[39;49m\u001b[43mimage\u001b[49m\u001b[38;5;241;43m.\u001b[39;49m\u001b[43mread_file\u001b[49m\u001b[43m(\u001b[49m\u001b[43mpath\u001b[49m\u001b[43m)\u001b[49m\n\u001b[1;32m     48\u001b[0m \u001b[38;5;28;01mreturn\u001b[39;00m data\n",
      "File \u001b[0;32m~/miniforge3/envs/pytorch/lib/python3.10/site-packages/torch/_ops.py:143\u001b[0m, in \u001b[0;36mOpOverloadPacket.__call__\u001b[0;34m(self, *args, **kwargs)\u001b[0m\n\u001b[1;32m    138\u001b[0m \u001b[38;5;28;01mdef\u001b[39;00m \u001b[38;5;21m__call__\u001b[39m(\u001b[38;5;28mself\u001b[39m, \u001b[38;5;241m*\u001b[39margs, \u001b[38;5;241m*\u001b[39m\u001b[38;5;241m*\u001b[39mkwargs):\n\u001b[1;32m    139\u001b[0m     \u001b[38;5;66;03m# overloading __call__ to ensure torch.ops.foo.bar()\u001b[39;00m\n\u001b[1;32m    140\u001b[0m     \u001b[38;5;66;03m# is still callable from JIT\u001b[39;00m\n\u001b[1;32m    141\u001b[0m     \u001b[38;5;66;03m# We save the function ptr as the `op` attribute on\u001b[39;00m\n\u001b[1;32m    142\u001b[0m     \u001b[38;5;66;03m# OpOverloadPacket to access it here.\u001b[39;00m\n\u001b[0;32m--> 143\u001b[0m     \u001b[38;5;28;01mreturn\u001b[39;00m \u001b[38;5;28;43mself\u001b[39;49m\u001b[38;5;241;43m.\u001b[39;49m\u001b[43m_op\u001b[49m\u001b[43m(\u001b[49m\u001b[38;5;241;43m*\u001b[39;49m\u001b[43margs\u001b[49m\u001b[43m,\u001b[49m\u001b[43m \u001b[49m\u001b[38;5;241;43m*\u001b[39;49m\u001b[38;5;241;43m*\u001b[39;49m\u001b[43mkwargs\u001b[49m\u001b[43m \u001b[49m\u001b[38;5;129;43;01mor\u001b[39;49;00m\u001b[43m \u001b[49m\u001b[43m{\u001b[49m\u001b[43m}\u001b[49m\u001b[43m)\u001b[49m\n",
      "\u001b[0;31mRuntimeError\u001b[0m: isString()INTERNAL ASSERT FAILED at \"/Users/malfet/miniconda3/envs/whl-py310-torch-1.11.0/lib/python3.10/site-packages/torch/include/ATen/core/ivalue_inl.h\":2088, please report a bug to PyTorch. Expected String but got Blob"
     ]
    }
   ],
   "source": [
    "read_image()"
   ]
  },
  {
   "cell_type": "code",
   "execution_count": 4,
   "id": "01bcdc90-7e93-4d7b-85fb-785e1cf39edf",
   "metadata": {},
   "outputs": [],
   "source": [
    "dl = get_dataloader(dataset_path, batch_size=BATCH_SIZE, image_size=IMAGE_SIZE, num_workers=NUM_WORKERS)"
   ]
  },
  {
   "cell_type": "code",
   "execution_count": 10,
   "id": "365d8717-40c2-44e5-93db-ebd060f4980e",
   "metadata": {},
   "outputs": [],
   "source": [
    "def cycle_dl(dl, n=1):\n",
    "    for _ in range(n):\n",
    "        for b in tqdm(dl):\n",
    "            pass"
   ]
  },
  {
   "cell_type": "code",
   "execution_count": 13,
   "id": "77e44c7c-b684-42e4-a0bb-87a37510333e",
   "metadata": {},
   "outputs": [
    {
     "data": {
      "application/vnd.jupyter.widget-view+json": {
       "model_id": "df30374fc1be4afa827bc7ef32dd657f",
       "version_major": 2,
       "version_minor": 0
      },
      "text/plain": [
       "  0%|          | 0/116 [00:00<?, ?it/s]"
      ]
     },
     "metadata": {},
     "output_type": "display_data"
    },
    {
     "data": {
      "application/vnd.jupyter.widget-view+json": {
       "model_id": "dba18ee0a578462e80a9f238013cc558",
       "version_major": 2,
       "version_minor": 0
      },
      "text/plain": [
       "  0%|          | 0/116 [00:00<?, ?it/s]"
      ]
     },
     "metadata": {},
     "output_type": "display_data"
    }
   ],
   "source": [
    "cycle_dl(dl, n=2)"
   ]
  },
  {
   "cell_type": "markdown",
   "id": "7dde468c-44bb-4c7e-84a5-8d500d15bd69",
   "metadata": {},
   "source": [
    "## Profiling PyTorch DataLoader in M1"
   ]
  },
  {
   "cell_type": "code",
   "execution_count": 15,
   "id": "059a81c7-fcd7-46b4-a3d2-04260e6054e3",
   "metadata": {},
   "outputs": [],
   "source": [
    "dl2 = get_dataloader(dataset_path, batch_size=BATCH_SIZE, image_size=IMAGE_SIZE, num_workers=2)"
   ]
  },
  {
   "cell_type": "code",
   "execution_count": 16,
   "id": "5c6f8c6b-8aa1-4a54-a304-cecd204b9fc3",
   "metadata": {},
   "outputs": [
    {
     "data": {
      "application/vnd.jupyter.widget-view+json": {
       "model_id": "f69a68a0be394d9f9abf68b26f717b13",
       "version_major": 2,
       "version_minor": 0
      },
      "text/plain": [
       "  0%|          | 0/116 [00:00<?, ?it/s]"
      ]
     },
     "metadata": {},
     "output_type": "display_data"
    },
    {
     "data": {
      "application/vnd.jupyter.widget-view+json": {
       "model_id": "d8f72c5fa4a042a391496f258e5677ac",
       "version_major": 2,
       "version_minor": 0
      },
      "text/plain": [
       "  0%|          | 0/116 [00:00<?, ?it/s]"
      ]
     },
     "metadata": {},
     "output_type": "display_data"
    }
   ],
   "source": [
    "cycle_dl(dl2, 2)"
   ]
  },
  {
   "cell_type": "code",
   "execution_count": 17,
   "id": "ae1302db-c31d-4cbe-9641-3a5b97b08659",
   "metadata": {},
   "outputs": [],
   "source": [
    "dl3 = get_dataloader(dataset_path, batch_size=BATCH_SIZE, image_size=IMAGE_SIZE, num_workers=4)"
   ]
  },
  {
   "cell_type": "code",
   "execution_count": 18,
   "id": "bfc97e28-4e1e-44b3-a7e5-016cc0b6ae58",
   "metadata": {},
   "outputs": [
    {
     "data": {
      "application/vnd.jupyter.widget-view+json": {
       "model_id": "75abf39c46a74ac480025bbeed321931",
       "version_major": 2,
       "version_minor": 0
      },
      "text/plain": [
       "  0%|          | 0/116 [00:00<?, ?it/s]"
      ]
     },
     "metadata": {},
     "output_type": "display_data"
    },
    {
     "data": {
      "application/vnd.jupyter.widget-view+json": {
       "model_id": "df293ab77c894b12866b3ffae1fc65e8",
       "version_major": 2,
       "version_minor": 0
      },
      "text/plain": [
       "  0%|          | 0/116 [00:00<?, ?it/s]"
      ]
     },
     "metadata": {},
     "output_type": "display_data"
    }
   ],
   "source": [
    "cycle_dl(dl3, n=2)"
   ]
  }
 ],
 "metadata": {
  "kernelspec": {
   "display_name": "pt13",
   "language": "python",
   "name": "python3"
  },
  "language_info": {
   "codemirror_mode": {
    "name": "ipython",
    "version": 3
   },
   "file_extension": ".py",
   "mimetype": "text/x-python",
   "name": "python",
   "nbconvert_exporter": "python",
   "pygments_lexer": "ipython3",
   "version": "3.10.6"
  },
  "vscode": {
   "interpreter": {
    "hash": "1e5fa629357e541ad8d3902d5138fda7216f00b384e6bb50a110b5c1d07c7f67"
   }
  }
 },
 "nbformat": 4,
 "nbformat_minor": 5
}
